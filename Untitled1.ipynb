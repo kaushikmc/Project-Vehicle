{
 "cells": [
  {
   "cell_type": "code",
   "execution_count": 1,
   "id": "185d6b4a-8173-4369-80b7-c9d632984cff",
   "metadata": {},
   "outputs": [
    {
     "name": "stdout",
     "output_type": "stream",
     "text": [
      "C:\\Users\\KAUSHIK MC\\Desktop\\envs\\vehicle\\python.exe\n"
     ]
    }
   ],
   "source": [
    "import sys; print(sys.executable)"
   ]
  },
  {
   "cell_type": "code",
   "execution_count": null,
   "id": "daec9c35-824a-4dc3-8a50-ec68ca1ee0de",
   "metadata": {},
   "outputs": [],
   "source": []
  }
 ],
 "metadata": {
  "kernelspec": {
   "display_name": "Python (vehicle)",
   "language": "python",
   "name": "vehicle"
  },
  "language_info": {
   "codemirror_mode": {
    "name": "ipython",
    "version": 3
   },
   "file_extension": ".py",
   "mimetype": "text/x-python",
   "name": "python",
   "nbconvert_exporter": "python",
   "pygments_lexer": "ipython3",
   "version": "3.10.18"
  }
 },
 "nbformat": 4,
 "nbformat_minor": 5
}
