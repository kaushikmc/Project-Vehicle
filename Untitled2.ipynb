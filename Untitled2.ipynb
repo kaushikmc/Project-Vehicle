{
 "cells": [
  {
   "cell_type": "code",
   "execution_count": null,
   "id": "62dbb7f1-294d-4426-9512-9fd6d0d61c4e",
   "metadata": {},
   "outputs": [],
   "source": []
  }
 ],
 "metadata": {
  "kernelspec": {
   "display_name": "Python (vehicle)",
   "language": "python",
   "name": "vehicle"
  },
  "language_info": {
   "codemirror_mode": {
    "name": "ipython",
    "version": 3
   },
   "file_extension": ".py",
   "mimetype": "text/x-python",
   "name": "python",
   "nbconvert_exporter": "python",
   "pygments_lexer": "ipython3",
   "version": "3.10.18"
  }
 },
 "nbformat": 4,
 "nbformat_minor": 5
}
